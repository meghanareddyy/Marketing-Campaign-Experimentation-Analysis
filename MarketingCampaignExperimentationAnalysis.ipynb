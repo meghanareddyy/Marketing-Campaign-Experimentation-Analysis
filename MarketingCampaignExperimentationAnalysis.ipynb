{
  "nbformat": 4,
  "nbformat_minor": 0,
  "metadata": {
    "colab": {
      "name": " MarketingCampaignExperimentationAnalysis.ipynb",
      "provenance": []
    },
    "kernelspec": {
      "name": "python3",
      "display_name": "Python 3"
    },
    "language_info": {
      "name": "python"
    }
  },
  "cells": [
    {
      "cell_type": "code",
      "execution_count": 1,
      "metadata": {
        "colab": {
          "base_uri": "https://localhost:8080/",
          "height": 456
        },
        "id": "9M4-cerDAMCG",
        "outputId": "ae8be387-d0c8-4df0-e0c9-b837f2b3f787"
      },
      "outputs": [
        {
          "output_type": "stream",
          "name": "stdout",
          "text": [
            "<class 'pandas.core.frame.DataFrame'>\n",
            "RangeIndex: 588101 entries, 0 to 588100\n",
            "Data columns (total 7 columns):\n",
            " #   Column         Non-Null Count   Dtype \n",
            "---  ------         --------------   ----- \n",
            " 0   Unnamed: 0     588101 non-null  int64 \n",
            " 1   user id        588101 non-null  int64 \n",
            " 2   test group     588101 non-null  object\n",
            " 3   converted      588101 non-null  bool  \n",
            " 4   total ads      588101 non-null  int64 \n",
            " 5   most ads day   588101 non-null  object\n",
            " 6   most ads hour  588101 non-null  int64 \n",
            "dtypes: bool(1), int64(4), object(2)\n",
            "memory usage: 27.5+ MB\n"
          ]
        },
        {
          "output_type": "execute_result",
          "data": {
            "text/plain": [
              "   Unnamed: 0  user id test group  converted  total ads most ads day  \\\n",
              "0           0  1069124         ad      False        130       Monday   \n",
              "1           1  1119715         ad      False         93      Tuesday   \n",
              "2           2  1144181         ad      False         21      Tuesday   \n",
              "3           3  1435133         ad      False        355      Tuesday   \n",
              "4           4  1015700         ad      False        276       Friday   \n",
              "\n",
              "   most ads hour  \n",
              "0             20  \n",
              "1             22  \n",
              "2             18  \n",
              "3             10  \n",
              "4             14  "
            ],
            "text/html": [
              "\n",
              "  <div id=\"df-b0f0cbfd-1cbc-4fa2-b2fd-a2bbe0387aec\">\n",
              "    <div class=\"colab-df-container\">\n",
              "      <div>\n",
              "<style scoped>\n",
              "    .dataframe tbody tr th:only-of-type {\n",
              "        vertical-align: middle;\n",
              "    }\n",
              "\n",
              "    .dataframe tbody tr th {\n",
              "        vertical-align: top;\n",
              "    }\n",
              "\n",
              "    .dataframe thead th {\n",
              "        text-align: right;\n",
              "    }\n",
              "</style>\n",
              "<table border=\"1\" class=\"dataframe\">\n",
              "  <thead>\n",
              "    <tr style=\"text-align: right;\">\n",
              "      <th></th>\n",
              "      <th>Unnamed: 0</th>\n",
              "      <th>user id</th>\n",
              "      <th>test group</th>\n",
              "      <th>converted</th>\n",
              "      <th>total ads</th>\n",
              "      <th>most ads day</th>\n",
              "      <th>most ads hour</th>\n",
              "    </tr>\n",
              "  </thead>\n",
              "  <tbody>\n",
              "    <tr>\n",
              "      <th>0</th>\n",
              "      <td>0</td>\n",
              "      <td>1069124</td>\n",
              "      <td>ad</td>\n",
              "      <td>False</td>\n",
              "      <td>130</td>\n",
              "      <td>Monday</td>\n",
              "      <td>20</td>\n",
              "    </tr>\n",
              "    <tr>\n",
              "      <th>1</th>\n",
              "      <td>1</td>\n",
              "      <td>1119715</td>\n",
              "      <td>ad</td>\n",
              "      <td>False</td>\n",
              "      <td>93</td>\n",
              "      <td>Tuesday</td>\n",
              "      <td>22</td>\n",
              "    </tr>\n",
              "    <tr>\n",
              "      <th>2</th>\n",
              "      <td>2</td>\n",
              "      <td>1144181</td>\n",
              "      <td>ad</td>\n",
              "      <td>False</td>\n",
              "      <td>21</td>\n",
              "      <td>Tuesday</td>\n",
              "      <td>18</td>\n",
              "    </tr>\n",
              "    <tr>\n",
              "      <th>3</th>\n",
              "      <td>3</td>\n",
              "      <td>1435133</td>\n",
              "      <td>ad</td>\n",
              "      <td>False</td>\n",
              "      <td>355</td>\n",
              "      <td>Tuesday</td>\n",
              "      <td>10</td>\n",
              "    </tr>\n",
              "    <tr>\n",
              "      <th>4</th>\n",
              "      <td>4</td>\n",
              "      <td>1015700</td>\n",
              "      <td>ad</td>\n",
              "      <td>False</td>\n",
              "      <td>276</td>\n",
              "      <td>Friday</td>\n",
              "      <td>14</td>\n",
              "    </tr>\n",
              "  </tbody>\n",
              "</table>\n",
              "</div>\n",
              "      <button class=\"colab-df-convert\" onclick=\"convertToInteractive('df-b0f0cbfd-1cbc-4fa2-b2fd-a2bbe0387aec')\"\n",
              "              title=\"Convert this dataframe to an interactive table.\"\n",
              "              style=\"display:none;\">\n",
              "        \n",
              "  <svg xmlns=\"http://www.w3.org/2000/svg\" height=\"24px\"viewBox=\"0 0 24 24\"\n",
              "       width=\"24px\">\n",
              "    <path d=\"M0 0h24v24H0V0z\" fill=\"none\"/>\n",
              "    <path d=\"M18.56 5.44l.94 2.06.94-2.06 2.06-.94-2.06-.94-.94-2.06-.94 2.06-2.06.94zm-11 1L8.5 8.5l.94-2.06 2.06-.94-2.06-.94L8.5 2.5l-.94 2.06-2.06.94zm10 10l.94 2.06.94-2.06 2.06-.94-2.06-.94-.94-2.06-.94 2.06-2.06.94z\"/><path d=\"M17.41 7.96l-1.37-1.37c-.4-.4-.92-.59-1.43-.59-.52 0-1.04.2-1.43.59L10.3 9.45l-7.72 7.72c-.78.78-.78 2.05 0 2.83L4 21.41c.39.39.9.59 1.41.59.51 0 1.02-.2 1.41-.59l7.78-7.78 2.81-2.81c.8-.78.8-2.07 0-2.86zM5.41 20L4 18.59l7.72-7.72 1.47 1.35L5.41 20z\"/>\n",
              "  </svg>\n",
              "      </button>\n",
              "      \n",
              "  <style>\n",
              "    .colab-df-container {\n",
              "      display:flex;\n",
              "      flex-wrap:wrap;\n",
              "      gap: 12px;\n",
              "    }\n",
              "\n",
              "    .colab-df-convert {\n",
              "      background-color: #E8F0FE;\n",
              "      border: none;\n",
              "      border-radius: 50%;\n",
              "      cursor: pointer;\n",
              "      display: none;\n",
              "      fill: #1967D2;\n",
              "      height: 32px;\n",
              "      padding: 0 0 0 0;\n",
              "      width: 32px;\n",
              "    }\n",
              "\n",
              "    .colab-df-convert:hover {\n",
              "      background-color: #E2EBFA;\n",
              "      box-shadow: 0px 1px 2px rgba(60, 64, 67, 0.3), 0px 1px 3px 1px rgba(60, 64, 67, 0.15);\n",
              "      fill: #174EA6;\n",
              "    }\n",
              "\n",
              "    [theme=dark] .colab-df-convert {\n",
              "      background-color: #3B4455;\n",
              "      fill: #D2E3FC;\n",
              "    }\n",
              "\n",
              "    [theme=dark] .colab-df-convert:hover {\n",
              "      background-color: #434B5C;\n",
              "      box-shadow: 0px 1px 3px 1px rgba(0, 0, 0, 0.15);\n",
              "      filter: drop-shadow(0px 1px 2px rgba(0, 0, 0, 0.3));\n",
              "      fill: #FFFFFF;\n",
              "    }\n",
              "  </style>\n",
              "\n",
              "      <script>\n",
              "        const buttonEl =\n",
              "          document.querySelector('#df-b0f0cbfd-1cbc-4fa2-b2fd-a2bbe0387aec button.colab-df-convert');\n",
              "        buttonEl.style.display =\n",
              "          google.colab.kernel.accessAllowed ? 'block' : 'none';\n",
              "\n",
              "        async function convertToInteractive(key) {\n",
              "          const element = document.querySelector('#df-b0f0cbfd-1cbc-4fa2-b2fd-a2bbe0387aec');\n",
              "          const dataTable =\n",
              "            await google.colab.kernel.invokeFunction('convertToInteractive',\n",
              "                                                     [key], {});\n",
              "          if (!dataTable) return;\n",
              "\n",
              "          const docLinkHtml = 'Like what you see? Visit the ' +\n",
              "            '<a target=\"_blank\" href=https://colab.research.google.com/notebooks/data_table.ipynb>data table notebook</a>'\n",
              "            + ' to learn more about interactive tables.';\n",
              "          element.innerHTML = '';\n",
              "          dataTable['output_type'] = 'display_data';\n",
              "          await google.colab.output.renderOutput(dataTable, element);\n",
              "          const docLink = document.createElement('div');\n",
              "          docLink.innerHTML = docLinkHtml;\n",
              "          element.appendChild(docLink);\n",
              "        }\n",
              "      </script>\n",
              "    </div>\n",
              "  </div>\n",
              "  "
            ]
          },
          "metadata": {},
          "execution_count": 1
        }
      ],
      "source": [
        "\n",
        "import pandas as pd\n",
        "import numpy as np\n",
        "import matplotlib.pyplot as plt\n",
        "import scipy.stats as stats\n",
        "%matplotlib inline\n",
        "\n",
        "# Read in our data\n",
        "data_url='https://drive.google.com/file/d/1LAabXMqBNd7m4FM4gNFFwxFij-HvmrhI/view?usp=sharing'\n",
        "file_id=data_url.split('/')[-2]\n",
        "data_url='https://drive.google.com/uc?id=' + file_id\n",
        "\n",
        "# Get to know the data a bit\n",
        "experiment_data = pd.read_csv(data_url)\n",
        "experiment_data.info()\n",
        "experiment_data.head()\n"
      ]
    },
    {
      "cell_type": "markdown",
      "source": [
        "'ad' is a group exposed to ads (the experimental group) and 'psa' is a portion of people (the control group) who would instead see a Public Service Announcement (PSA) (or nothing). Let's split the data based on this variable for ease of analysis."
      ],
      "metadata": {
        "id": "a7yBLV0bJL2h"
      }
    },
    {
      "cell_type": "code",
      "source": [
        "\n",
        "\n",
        "experiment_data_ads = experiment_data[experiment_data['test group']=='ad']\n",
        "print(experiment_data_ads['total ads'].describe())\n",
        "\n",
        "converted_yes = experiment_data_ads[experiment_data_ads['converted']==True]\n",
        "\n",
        "converted_no = experiment_data_ads[experiment_data_ads['converted']==False]\n",
        "\n",
        "\n",
        "print(converted_yes['total ads'].describe())\n",
        "print(converted_no['total ads'].describe())\n"
      ],
      "metadata": {
        "colab": {
          "base_uri": "https://localhost:8080/"
        },
        "id": "8B6aKLFgBn0m",
        "outputId": "868b966d-04b0-4925-ac14-ed7d7e7c3397"
      },
      "execution_count": 2,
      "outputs": [
        {
          "output_type": "stream",
          "name": "stdout",
          "text": [
            "count    564577.000000\n",
            "mean         24.823365\n",
            "std          43.750456\n",
            "min           1.000000\n",
            "25%           4.000000\n",
            "50%          13.000000\n",
            "75%          27.000000\n",
            "max        2065.000000\n",
            "Name: total ads, dtype: float64\n",
            "count    14423.000000\n",
            "mean        83.905567\n",
            "std         87.504179\n",
            "min          1.000000\n",
            "25%         35.000000\n",
            "50%         64.000000\n",
            "75%        103.000000\n",
            "max       1778.000000\n",
            "Name: total ads, dtype: float64\n",
            "count    550154.000000\n",
            "mean         23.274449\n",
            "std          40.861306\n",
            "min           1.000000\n",
            "25%           4.000000\n",
            "50%          13.000000\n",
            "75%          26.000000\n",
            "max        2065.000000\n",
            "Name: total ads, dtype: float64\n"
          ]
        }
      ]
    },
    {
      "cell_type": "markdown",
      "source": [
        "# 1. Do people who converted have **seen** a bigger number of ads on average than people who are not converted?"
      ],
      "metadata": {
        "id": "Wf0GHOjvFOXo"
      }
    },
    {
      "cell_type": "markdown",
      "source": [
        "let's check whether the samples are normally distributed. We'll do that both visually and through descriptive statistics.\n",
        "\n",
        "Using matplotlib.pyplot we can plot histograms of each sample. By setting alpha = .5, the transparency of each histogram is reduced so we can more easily make out overlapping areas."
      ],
      "metadata": {
        "id": "gT4wRLl_Nx6N"
      }
    },
    {
      "cell_type": "code",
      "source": [
        "\n",
        "plt.hist(converted_yes['total ads'], alpha = .5, label = \"converted yes\")\n",
        "plt.hist(converted_no['total ads'], alpha = .5, label = \"converted no\")\n",
        "\n",
        "plt.legend(loc=\"upper right\")\n",
        "plt.show()\n"
      ],
      "metadata": {
        "colab": {
          "base_uri": "https://localhost:8080/",
          "height": 265
        },
        "id": "0sP3XIGzFokI",
        "outputId": "e1273942-9f97-45a0-cf97-a8b002816fdb"
      },
      "execution_count": 3,
      "outputs": [
        {
          "output_type": "display_data",
          "data": {
            "text/plain": [
              "<Figure size 432x288 with 1 Axes>"
            ],
            "image/png": "[encoded data removed]"
          },
          "metadata": {
            "needs_background": "light"
          }
        }
      ]
    },
    {
      "cell_type": "code",
      "source": [
        "experiment_data['total ads'].hist(by = experiment_data['converted'])\n"
      ],
      "metadata": {
        "colab": {
          "base_uri": "https://localhost:8080/",
          "height": 349
        },
        "id": "Ue5ChgBSVccT",
        "outputId": "78beff69-af67-4bf0-8f3d-e5ca3522958b"
      },
      "execution_count": 4,
      "outputs": [
        {
          "output_type": "execute_result",
          "data": {
            "text/plain": [
              "array([<matplotlib.axes._subplots.AxesSubplot object at 0x7f20ae3d3c50>,\n",
              "       <matplotlib.axes._subplots.AxesSubplot object at 0x7f20ae392190>],\n",
              "      dtype=object)"
            ]
          },
          "metadata": {},
          "execution_count": 4
        },
        {
          "output_type": "display_data",
          "data": {
            "text/plain": [
              "<Figure size 432x288 with 2 Axes>"
            ],
            "image/png": "[encoded data removed]"
          },
          "metadata": {
            "needs_background": "light"
          }
        }
      ]
    },
    {
      "cell_type": "markdown",
      "source": [
        "The histogram has plotted some values of low values. This is a small selection of the data, so we are safe simply dropping it and proceeding with the analysis."
      ],
      "metadata": {
        "id": "A0IX0HVEaE-u"
      }
    },
    {
      "cell_type": "code",
      "source": [
        "experiment_data_ads_filtered = experiment_data_ads[experiment_data_ads['total ads']<200]\n",
        "converted_yes = experiment_data_ads_filtered[experiment_data_ads_filtered['converted']==True]\n",
        "converted_no = experiment_data_ads_filtered[experiment_data_ads_filtered['converted']==False]\n",
        "plt.hist(converted_yes['total ads'], alpha = .5, label = \"converted yes\")\n",
        "plt.hist(converted_no['total ads'], alpha = .5, label = \"converted no\")\n",
        "\n",
        "plt.legend(loc=\"upper right\")\n",
        "plt.show()"
      ],
      "metadata": {
        "colab": {
          "base_uri": "https://localhost:8080/",
          "height": 265
        },
        "id": "Xv_0eqRraXKQ",
        "outputId": "3a58cf52-bae3-44d8-bbe4-1c16113a8c73"
      },
      "execution_count": 5,
      "outputs": [
        {
          "output_type": "display_data",
          "data": {
            "text/plain": [
              "<Figure size 432x288 with 1 Axes>"
            ],
            "image/png": "[encoded data removed]"
          },
          "metadata": {
            "needs_background": "light"
          }
        }
      ]
    },
    {
      "cell_type": "markdown",
      "source": [
        "We can create a series of histograms for each category by adding the by argument to hist()."
      ],
      "metadata": {
        "id": "ZKBYbwlJaz-K"
      }
    },
    {
      "cell_type": "code",
      "source": [
        "experiment_data_ads_filtered['total ads'].hist(by = experiment_data_ads_filtered['converted'])"
      ],
      "metadata": {
        "colab": {
          "base_uri": "https://localhost:8080/",
          "height": 343
        },
        "id": "uOj1vuV6XTYW",
        "outputId": "442827a5-e1a4-4756-e80a-6ffc1e63d551"
      },
      "execution_count": 6,
      "outputs": [
        {
          "output_type": "execute_result",
          "data": {
            "text/plain": [
              "array([<matplotlib.axes._subplots.AxesSubplot object at 0x7f20ae28e590>,\n",
              "       <matplotlib.axes._subplots.AxesSubplot object at 0x7f20ae23cd90>],\n",
              "      dtype=object)"
            ]
          },
          "metadata": {},
          "execution_count": 6
        },
        {
          "output_type": "display_data",
          "data": {
            "text/plain": [
              "<Figure size 432x288 with 2 Axes>"
            ],
            "image/png": "[encoded data removed]"
          },
          "metadata": {
            "needs_background": "light"
          }
        }
      ]
    },
    {
      "cell_type": "markdown",
      "source": [
        "It appears from the histograms that this data does not fit a bell curve. \n",
        "\n",
        "To confirm, let's also retrieve the  exact measures of skewness and kurtosis. We will do that with `describe()` from [`scipy.stats`](https://docs.scipy.org/doc/scipy/reference/generated/scipy.stats.describe.html).**bold text**"
      ],
      "metadata": {
        "id": "FmL87z0UOBsb"
      }
    },
    {
      "cell_type": "code",
      "source": [
        "print(stats.describe(converted_yes['total ads']))\n",
        "print(stats.describe(converted_no['total ads']))"
      ],
      "metadata": {
        "colab": {
          "base_uri": "https://localhost:8080/"
        },
        "id": "MOP_MemLNwjS",
        "outputId": "bfe9ca6b-c260-4a0b-e553-29bdfb1fa6ef"
      },
      "execution_count": 7,
      "outputs": [
        {
          "output_type": "stream",
          "name": "stdout",
          "text": [
            "DescribeResult(nobs=13529, minmax=(1, 199), mean=67.51297213393451, variance=1910.427112166654, skewness=0.7237845825737649, kurtosis=0.0002569093614961382)\n",
            "DescribeResult(nobs=545308, minmax=(1, 199), mean=20.6210490218372, variance=695.8427980479206, skewness=2.833405299782117, kurtosis=10.319170001541229)\n"
          ]
        }
      ]
    },
    {
      "cell_type": "markdown",
      "source": [
        "From both the histograms and the statistics, it appears that the samples of this variable are not normally distributed.\n",
        "\n",
        "\n"
      ],
      "metadata": {
        "id": "HaqROB9MOWPz"
      }
    },
    {
      "cell_type": "code",
      "source": [
        "# Because not normally distributed\n",
        "# let's continue our analysis using Kruskal-Wallis\n",
        "stats.kruskal(converted_yes['total ads'], converted_no['total ads'])"
      ],
      "metadata": {
        "colab": {
          "base_uri": "https://localhost:8080/"
        },
        "id": "J6CeA7z1Pezl",
        "outputId": "8266691e-1b46-4cbe-d04e-f9d1aa1770c9"
      },
      "execution_count": 8,
      "outputs": [
        {
          "output_type": "execute_result",
          "data": {
            "text/plain": [
              "KruskalResult(statistic=19861.50899384467, pvalue=0.0)"
            ]
          },
          "metadata": {},
          "execution_count": 8
        }
      ]
    },
    {
      "cell_type": "markdown",
      "source": [
        "Based on the p-value, we can see that there is signicant difference between two groups means."
      ],
      "metadata": {
        "id": "BTUHv3LCP6b6"
      }
    },
    {
      "cell_type": "code",
      "source": [
        "# Let's visualize through boxplot for further info\n",
        "\n",
        "experiment_data_ads_filtered.boxplot('total ads', by='converted', figsize=(10, 6))"
      ],
      "metadata": {
        "colab": {
          "base_uri": "https://localhost:8080/",
          "height": 494
        },
        "id": "4eqL6SQ5QndX",
        "outputId": "d5e862fe-9e93-452a-aa77-2606e919de28"
      },
      "execution_count": 9,
      "outputs": [
        {
          "output_type": "stream",
          "name": "stderr",
          "text": [
            "/usr/local/lib/python3.7/dist-packages/matplotlib/cbook/__init__.py:1376: VisibleDeprecationWarning: Creating an ndarray from ragged nested sequences (which is a list-or-tuple of lists-or-tuples-or ndarrays with different lengths or shapes) is deprecated. If you meant to do this, you must specify 'dtype=object' when creating the ndarray.\n",
            "  X = np.atleast_1d(X.T if isinstance(X, np.ndarray) else np.asarray(X))\n"
          ]
        },
        {
          "output_type": "execute_result",
          "data": {
            "text/plain": [
              "<matplotlib.axes._subplots.AxesSubplot at 0x7f20ae18b810>"
            ]
          },
          "metadata": {},
          "execution_count": 9
        },
        {
          "output_type": "display_data",
          "data": {
            "text/plain": [
              "<Figure size 720x432 with 1 Axes>"
            ],
            "image/png": "[encoded data removed]"
          },
          "metadata": {
            "needs_background": "light"
          }
        }
      ]
    },
    {
      "cell_type": "markdown",
      "source": [
        "From the boxplot, it looks like people who are converted have seen more ads than who aren't."
      ],
      "metadata": {
        "id": "n8gOjbkpced_"
      }
    },
    {
      "cell_type": "code",
      "source": [
        "#  we can also create a pointplot to compare the means. \n",
        "import seaborn as sns\n",
        "\n",
        "g = sns.pointplot(data=[converted_yes['total ads'],\n",
        "                        converted_no['total ads']], join=False)\n",
        "                        \n",
        "g.set(xticklabels = ['converted_yes', 'converted_no'])"
      ],
      "metadata": {
        "id": "K8uhJ4zFR7Ab",
        "colab": {
          "base_uri": "https://localhost:8080/",
          "height": 286
        },
        "outputId": "04539c90-5d94-4cec-e554-fce3ad703454"
      },
      "execution_count": 10,
      "outputs": [
        {
          "output_type": "execute_result",
          "data": {
            "text/plain": [
              "[[Text(0, 0, 'converted_yes'), Text(0, 0, 'converted_no')]]"
            ]
          },
          "metadata": {},
          "execution_count": 10
        },
        {
          "output_type": "display_data",
          "data": {
            "text/plain": [
              "<Figure size 432x288 with 1 Axes>"
            ],
            "image/png": "[encoded data removed]"
          },
          "metadata": {
            "needs_background": "light"
          }
        }
      ]
    },
    {
      "cell_type": "code",
      "source": [
        "import math\n",
        "def get_95_ci(array_1, array_2):\n",
        "    sample_1_n = array_1.shape[0]\n",
        "    sample_2_n = array_2.shape[0]\n",
        "    sample_1_mean = array_1.mean()\n",
        "    sample_2_mean = array_2.mean()\n",
        "    sample_1_var = array_1.var()\n",
        "    sample_2_var = array_2.var()\n",
        "    mean_difference = sample_2_mean - sample_1_mean\n",
        "    std_err_difference = math.sqrt((sample_1_var/sample_1_n)+(sample_2_var/sample_2_n))\n",
        "    margin_of_error = 1.96 * std_err_difference\n",
        "    ci_lower = mean_difference - margin_of_error\n",
        "    ci_upper = mean_difference + margin_of_error\n",
        "    return(\"The difference in means at the 95% confidence interval (two-tail) is between \"+str(ci_lower)+\" and \"+str(ci_upper)+\".\")\n",
        "\n",
        "get_95_ci(converted_yes['total ads'], converted_no['total ads'])"
      ],
      "metadata": {
        "colab": {
          "base_uri": "https://localhost:8080/",
          "height": 35
        },
        "id": "YgEE_uveYEoB",
        "outputId": "93a6cdd5-8ca9-4c91-ce0c-f9256b4e90ae"
      },
      "execution_count": 11,
      "outputs": [
        {
          "output_type": "execute_result",
          "data": {
            "text/plain": [
              "'The difference in means at the 95% confidence interval (two-tail) is between -47.6317701110782 and -46.15207611311642.'"
            ],
            "application/vnd.google.colaboratory.intrinsic+json": {
              "type": "string"
            }
          },
          "metadata": {},
          "execution_count": 11
        }
      ]
    },
    {
      "cell_type": "markdown",
      "source": [
        "We can interpret this result as saying that with 95% confidence, people who have not converted  have seen ads on average between 57.95 and 55.73 lesser than people who have converted."
      ],
      "metadata": {
        "id": "N7PD9O_Sq1Lw"
      }
    },
    {
      "cell_type": "markdown",
      "source": [
        "From the above statistics, confidence interval, boxplot visualization, it looks like people who converted have seen a bigger number of ads on average than people who are not converted. Hence, we can say that people's conversion somewhat rely on number of ads seen."
      ],
      "metadata": {
        "id": "Q8wFC_lmhgA3"
      }
    },
    {
      "cell_type": "markdown",
      "source": [
        "# 2. Is there a significant difference in the number of ads seen on average from Monday to Friday? If yes, Which day do people see the biggest number of ads?\n"
      ],
      "metadata": {
        "id": "ZFsYr2MJs5kR"
      }
    },
    {
      "cell_type": "code",
      "source": [
        "experiment_data_ads_filtered['most ads day'].unique()"
      ],
      "metadata": {
        "colab": {
          "base_uri": "https://localhost:8080/"
        },
        "id": "aAErFbkus6s5",
        "outputId": "a9536d63-b251-4edb-ab5e-279ce0213b3e"
      },
      "execution_count": 12,
      "outputs": [
        {
          "output_type": "execute_result",
          "data": {
            "text/plain": [
              "array(['Monday', 'Tuesday', 'Sunday', 'Wednesday', 'Friday', 'Saturday',\n",
              "       'Thursday'], dtype=object)"
            ]
          },
          "metadata": {},
          "execution_count": 12
        }
      ]
    },
    {
      "cell_type": "markdown",
      "source": [
        "let's check whether the samples are normally distributed. We'll do that both visually and through descriptive statistics."
      ],
      "metadata": {
        "id": "4nRtJY9EdxXN"
      }
    },
    {
      "cell_type": "code",
      "source": [
        "ads_monday = experiment_data_ads_filtered[experiment_data_ads_filtered['most ads day'] == 'Monday']\n",
        "ads_tuesday = experiment_data_ads_filtered[experiment_data_ads_filtered['most ads day'] == 'Tuesday']\n",
        "ads_wednesday = experiment_data_ads_filtered[experiment_data_ads_filtered['most ads day'] == 'Wednesday']\n",
        "ads_thursday = experiment_data_ads_filtered[experiment_data_ads_filtered['most ads day'] == 'Thursday']\n",
        "ads_friday = experiment_data_ads_filtered[experiment_data_ads_filtered['most ads day'] == 'Friday']\n",
        "ads_saturday = experiment_data_ads_filtered[experiment_data_ads_filtered['most ads day'] == 'Saturday']\n",
        "ads_sunday = experiment_data_ads_filtered[experiment_data_ads_filtered['most ads day'] == 'Sunday']\n",
        "\n",
        "print(stats.describe(ads_monday['total ads']))\n",
        "print(stats.describe(ads_tuesday['total ads']))\n",
        "print(stats.describe(ads_wednesday['total ads']))\n",
        "print(stats.describe(ads_thursday['total ads']))\n",
        "print(stats.describe(ads_friday['total ads']))\n",
        "print(stats.describe(ads_saturday['total ads']))\n",
        "print(stats.describe(ads_sunday['total ads']))\n",
        "\n",
        "plt.hist(ads_monday['total ads'], alpha = .5)\n",
        "plt.hist(ads_tuesday['total ads'], alpha = .5)\n",
        "plt.hist(ads_wednesday['total ads'], alpha = .5)\n",
        "plt.hist(ads_thursday['total ads'], alpha = .5)\n",
        "plt.hist(ads_friday['total ads'], alpha = .5)\n",
        "plt.hist(ads_saturday['total ads'], alpha = .5)\n",
        "plt.hist(ads_sunday['total ads'], alpha = .5)\n",
        "\n",
        "plt.show()"
      ],
      "metadata": {
        "colab": {
          "base_uri": "https://localhost:8080/",
          "height": 391
        },
        "id": "zYQpYUdzgnOW",
        "outputId": "b21158c3-9cbd-4763-dc7a-3673320270f0"
      },
      "execution_count": 13,
      "outputs": [
        {
          "output_type": "stream",
          "name": "stdout",
          "text": [
            "DescribeResult(nobs=82568, minmax=(1, 199), mean=21.677247844201144, variance=797.2579599331467, skewness=2.709427351585443, kurtosis=8.875893759579862)\n",
            "DescribeResult(nobs=73988, minmax=(1, 199), mean=21.659890793101585, variance=753.4205940491927, skewness=2.68643204688334, kurtosis=9.049542527274506)\n",
            "DescribeResult(nobs=76609, minmax=(1, 199), mean=21.359657481496953, variance=784.3534533914514, skewness=2.6812349581340396, kurtosis=8.89129953449247)\n",
            "DescribeResult(nobs=78314, minmax=(1, 199), mean=20.391539188395434, variance=715.0229110603121, skewness=2.8448690722773287, kurtosis=10.270142582673012)\n",
            "DescribeResult(nobs=87610, minmax=(1, 199), mean=22.51167674922954, variance=848.0034078083937, skewness=2.6870576720599217, kurtosis=8.69065573173829)\n",
            "DescribeResult(nobs=78088, minmax=(1, 199), mean=22.4820971211966, variance=771.208433820936, skewness=2.6617350193972884, kurtosis=8.918926401844637)\n",
            "DescribeResult(nobs=81660, minmax=(1, 199), mean=22.09982855743326, variance=757.9380864032112, skewness=2.6500334177628835, kurtosis=8.878643417573407)\n"
          ]
        },
        {
          "output_type": "display_data",
          "data": {
            "text/plain": [
              "<Figure size 432x288 with 1 Axes>"
            ],
            "image/png": "[encoded data removed]"
          },
          "metadata": {
            "needs_background": "light"
          }
        }
      ]
    },
    {
      "cell_type": "code",
      "source": [
        "experiment_data_ads_filtered['total ads'].hist(by =experiment_data_ads_filtered['most ads day'])\n"
      ],
      "metadata": {
        "colab": {
          "base_uri": "https://localhost:8080/",
          "height": 468
        },
        "id": "Ee4Ip8ufeXCP",
        "outputId": "4c559688-70d8-459c-9b9a-de4fb73272b4"
      },
      "execution_count": 14,
      "outputs": [
        {
          "output_type": "execute_result",
          "data": {
            "text/plain": [
              "array([[<matplotlib.axes._subplots.AxesSubplot object at 0x7f20ae0ba8d0>,\n",
              "        <matplotlib.axes._subplots.AxesSubplot object at 0x7f20ad630e50>,\n",
              "        <matplotlib.axes._subplots.AxesSubplot object at 0x7f20ad5f3490>],\n",
              "       [<matplotlib.axes._subplots.AxesSubplot object at 0x7f20ad5a9a90>,\n",
              "        <matplotlib.axes._subplots.AxesSubplot object at 0x7f20ad56c0d0>,\n",
              "        <matplotlib.axes._subplots.AxesSubplot object at 0x7f20ad5226d0>],\n",
              "       [<matplotlib.axes._subplots.AxesSubplot object at 0x7f20ad558d50>,\n",
              "        <matplotlib.axes._subplots.AxesSubplot object at 0x7f20ad51c2d0>,\n",
              "        <matplotlib.axes._subplots.AxesSubplot object at 0x7f20ad51c310>]],\n",
              "      dtype=object)"
            ]
          },
          "metadata": {},
          "execution_count": 14
        },
        {
          "output_type": "display_data",
          "data": {
            "text/plain": [
              "<Figure size 432x288 with 9 Axes>"
            ],
            "image/png": "[encoded data removed]"
          },
          "metadata": {
            "needs_background": "light"
          }
        }
      ]
    },
    {
      "cell_type": "markdown",
      "source": [
        "From both the histograms and the statistics, it appears that the samples of this variable are not normally distributed."
      ],
      "metadata": {
        "id": "wjLJ8Qmdeg0J"
      }
    },
    {
      "cell_type": "code",
      "source": [
        "# Because not normally distributed\n",
        "# let's continue our analysis using Kruskal-Wallis\n",
        "stats.kruskal(ads_monday['total ads'], ads_tuesday['total ads'], ads_wednesday['total ads'], ads_thursday['total ads'], ads_friday['total ads'], ads_saturday['total ads'], ads_sunday['total ads'])"
      ],
      "metadata": {
        "id": "_HSx7ChvelBB",
        "colab": {
          "base_uri": "https://localhost:8080/"
        },
        "outputId": "ff9589b8-6d95-433a-8c9b-0c85fb14eb6b"
      },
      "execution_count": 15,
      "outputs": [
        {
          "output_type": "execute_result",
          "data": {
            "text/plain": [
              "KruskalResult(statistic=740.1522108886498, pvalue=1.3058360663854145e-156)"
            ]
          },
          "metadata": {},
          "execution_count": 15
        }
      ]
    },
    {
      "cell_type": "markdown",
      "source": [
        "Based on the p-value, we can see that there is signicant difference between groups means.\n",
        "\n"
      ],
      "metadata": {
        "id": "JFbprcagfOIN"
      }
    },
    {
      "cell_type": "code",
      "source": [
        "# Let's visualize through boxplot for further info\n",
        "experiment_data_ads_filtered.boxplot('total ads', by='most ads day', figsize=(10, 6))"
      ],
      "metadata": {
        "colab": {
          "base_uri": "https://localhost:8080/",
          "height": 494
        },
        "id": "wq1Z57HJmBq5",
        "outputId": "c5339232-1c12-4978-8cca-7232aa68ec7e"
      },
      "execution_count": 16,
      "outputs": [
        {
          "output_type": "stream",
          "name": "stderr",
          "text": [
            "/usr/local/lib/python3.7/dist-packages/matplotlib/cbook/__init__.py:1376: VisibleDeprecationWarning: Creating an ndarray from ragged nested sequences (which is a list-or-tuple of lists-or-tuples-or ndarrays with different lengths or shapes) is deprecated. If you meant to do this, you must specify 'dtype=object' when creating the ndarray.\n",
            "  X = np.atleast_1d(X.T if isinstance(X, np.ndarray) else np.asarray(X))\n"
          ]
        },
        {
          "output_type": "execute_result",
          "data": {
            "text/plain": [
              "<matplotlib.axes._subplots.AxesSubplot at 0x7f20ad772f50>"
            ]
          },
          "metadata": {},
          "execution_count": 16
        },
        {
          "output_type": "display_data",
          "data": {
            "text/plain": [
              "<Figure size 720x432 with 1 Axes>"
            ],
            "image/png": "[encoded data removed]"
          },
          "metadata": {
            "needs_background": "light"
          }
        }
      ]
    },
    {
      "cell_type": "markdown",
      "source": [
        "From the above plot, it looks like there is a no difference in total ads  seen every day"
      ],
      "metadata": {
        "id": "tniB3699fibt"
      }
    },
    {
      "cell_type": "markdown",
      "source": [
        "# Conclusion"
      ],
      "metadata": {
        "id": "w3NClcTAXyIG"
      }
    },
    {
      "cell_type": "markdown",
      "source": [
        "From the above analisys, I see that:\n",
        "1. Ads shown contributes to Conversion.\n",
        "2. People watch the same number of ads each day and hence the conversions are not attributed to any single day.\n",
        "\n",
        "The above proposal benefits the company who ran A/B test to find key insights regarding impact of ads on conversions. With the above proposal, the company can understand whether the people are buying their products mostly because of their ads. Also, it helps them to know that the conversions are not dependent on specific day ad is seen. This understanding will help companies who run the similar campaign driving future business decisions.\n",
        "\n"
      ],
      "metadata": {
        "id": "Z4fGLtekX1tP"
      }
    }
  ]
}